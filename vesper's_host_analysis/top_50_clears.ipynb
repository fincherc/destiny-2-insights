{
 "cells": [
  {
   "cell_type": "code",
   "execution_count": 10,
   "metadata": {},
   "outputs": [],
   "source": [
    "#Inclusion\n",
    "from selenium import webdriver\n",
    "from selenium.webdriver.chrome.service import Service\n",
    "from selenium.webdriver.common.by import By\n",
    "from selenium.webdriver.support.ui import WebDriverWait\n",
    "from selenium.webdriver.support import expected_conditions as EC\n",
    "import pprint\n",
    "import pandas as pd\n",
    "from dotenv import load_dotenv"
   ]
  },
  {
   "cell_type": "code",
   "execution_count": 2,
   "metadata": {},
   "outputs": [],
   "source": [
    "# Path to your GeckoDriver (Firefox driver)\n",
    "gecko_driver_path = 'C:/Program Files/geckodriver-v0.35.0-win64/geckodriver.exe'  # Replace with your actual path\n",
    "\n",
    "# Setup Firefox WebDriver\n",
    "service = Service(gecko_driver_path)\n",
    "driver = webdriver.Firefox(service=service)\n",
    "\n",
    "# Open the leaderboard page\n",
    "driver.get('https://dungeon.report/leaderboard/worldsfirst/vespershost/challenge')\n",
    "\n",
    "# Give time for the page to load, adjust as needed\n",
    "driver.implicitly_wait(10)"
   ]
  },
  {
   "cell_type": "code",
   "execution_count": 3,
   "metadata": {},
   "outputs": [],
   "source": [
    "# Scrape player names from the leaderboard\n",
    "players = driver.find_elements(By.CLASS_NAME, 'MuiTableRow-root')"
   ]
  },
  {
   "cell_type": "code",
   "execution_count": 4,
   "metadata": {},
   "outputs": [
    {
     "name": "stdout",
     "output_type": "stream",
     "text": [
      "[['Pine', 'Tides', 'SpecialHero'], ['HANHAN', '柠柠', 'SuouYuki'], ['Dragon', 'Grumm', 'Soto'], ['Saltagreppo', 'Son', 'OG'], ['廣天', '芳村安琪儿中意露西'], ['Haze', 'Fayox', 'Limso'], ['嗨呀好气啊hehehe', 'owo', 'Iochimari'], ['DrakathShadow', 'bravo', 'Jake'], ['Savurn', 'NoeL', 'Jelly'], ['lonely', 'rsb', '訁'], ['dp', 'Emt', 'zcp'], ['戌亥ここ', '晓柒', 'Alastor'], ['刁民', '春野甜', '月有阴云花有风'], ['Sin', 'z', 'Legion_lestat'], ['.', 'iStorm', 'Purple'], ['Tobi', 'Twoface', 'ChaosReis'], ['Darling', 'Vanguard', 'moonshame'], ['Cubbbs', 'Substancer', 'Silomare'], ['七草荠', 'LostInDespair', 'Sekiro'], ['PIZZA TIME', 'TRIGGER', 'I am sorry'], ['cmccwc', '梦梦', '小王'], ['行之', 'Gt鱼', 'taki'], ['Strelizia', 'HHruarua', '叶 晚'], ['Fantasy', 'Sin', 'Matrix'], ['Myon', 'k3', 'IceNiceSpice'], ['紫夜非月', '白', '莲莲小猪猪'], ['Smarti', 'Hobo', 'Skane'], ['TStorm', 'Flarpes', 'Snow'], ['Chad', 'ty', 'Turtle'], ['Yazz', 'Sytorix', 'Doctor Wo'], ['vykjlu', 'Pip', 'Tex'], ['μ', '萌动', '肖战闪击波兰'], ['Nxisen', 'Praeds', 'Nepthz'], ['Capillaris', 'LBBD7', '鱼'], ['Titi', 'FreeZiiX', 'Ysiig'], ['Gaffer', 'Noah', 'razorcut'], ['RoWithTheBow', 'HeathenFlyer', 'Zen_Ethancole'], ['milito', 'Enskeria', 'mitcH'], ['AloneDuck', '深圳发廊皇帝', '狂妄小子'], ['BO_7aSSan597', 'Rashxid', 'Paja'], ['YingGo', 'cC菜狗Cc', '藤宫抹茶'], ['Sammie', 'King Damage', 'coconut'], ['Blanchard', 'Harry', 'Warluck'], ['huiy1', '白岚', '似雨若离'], ['χÎмΞΣ', 'Yukinoshita', '阿呆'], ['托芙', '与江', '苏木'], ['Eileen', '压抑不住的愤怒', ':('], ['spite', 'peeb', 'Crimares'], ['alsabyani', 'SpecialHero', 'boop'], ['Nova', 'Nick', 'Erix']]\n"
     ]
    }
   ],
   "source": [
    "# Collect player names\n",
    "player_data = []\n",
    "\n",
    "# Collect the timestamp links\n",
    "clear_links = []\n",
    "\n",
    "for team in players[1:len(players)]:  # Top 50 teams\n",
    "    # Find all player names within the 'leaderboard-break' elements in the row\n",
    "    team_players = team.find_elements(By.CLASS_NAME, 'leaderboard-break')\n",
    "    \n",
    "    # Collect each player's name and append to the player_data list\n",
    "    team_data = []\n",
    "    for player in team_players:\n",
    "        name = player.text\n",
    "        team_data.append(name)\n",
    "    \n",
    "    # Add the team information to the main player_data list\n",
    "    player_data.append(team_data)\n",
    "\n",
    "# Now player_data contains a list of lists, where each sublist represents a team's players\n",
    "print(player_data)"
   ]
  },
  {
   "cell_type": "code",
   "execution_count": 5,
   "metadata": {},
   "outputs": [
    {
     "name": "stdout",
     "output_type": "stream",
     "text": [
      "['https://dungeon.report/pgcr/15588722299', 'https://dungeon.report/pgcr/15588914874', 'https://dungeon.report/pgcr/15588980267', 'https://dungeon.report/pgcr/15588989114', 'https://dungeon.report/pgcr/15589002711', 'https://dungeon.report/pgcr/15589029823', 'https://dungeon.report/pgcr/15589023283', 'https://dungeon.report/pgcr/15589059489', 'https://dungeon.report/pgcr/15589062439', 'https://dungeon.report/pgcr/15589100314', 'https://dungeon.report/pgcr/15589110842', 'https://dungeon.report/pgcr/15589126733', 'https://dungeon.report/pgcr/15589129971', 'https://dungeon.report/pgcr/15589175756', 'https://dungeon.report/pgcr/15589251667', 'https://dungeon.report/pgcr/15589237524', 'https://dungeon.report/pgcr/15589242109', 'https://dungeon.report/pgcr/15589242198', 'https://dungeon.report/pgcr/15589273300', 'https://dungeon.report/pgcr/15589321303', 'https://dungeon.report/pgcr/15589302032', 'https://dungeon.report/pgcr/15589322280', 'https://dungeon.report/pgcr/15589326108', 'https://dungeon.report/pgcr/15589330033', 'https://dungeon.report/pgcr/15589327884', 'https://dungeon.report/pgcr/15589336282', 'https://dungeon.report/pgcr/15589349805', 'https://dungeon.report/pgcr/15589353580', 'https://dungeon.report/pgcr/15589355549', 'https://dungeon.report/pgcr/15589391166', 'https://dungeon.report/pgcr/15589400139', 'https://dungeon.report/pgcr/15589450284', 'https://dungeon.report/pgcr/15589437859', 'https://dungeon.report/pgcr/15589443119', 'https://dungeon.report/pgcr/15589434272', 'https://dungeon.report/pgcr/15589440080', 'https://dungeon.report/pgcr/15589482980', 'https://dungeon.report/pgcr/15589503435', 'https://dungeon.report/pgcr/15589513842', 'https://dungeon.report/pgcr/15589512039', 'https://dungeon.report/pgcr/15589508694', 'https://dungeon.report/pgcr/15589510105', 'https://dungeon.report/pgcr/15589516790', 'https://dungeon.report/pgcr/15590401884', 'https://dungeon.report/pgcr/15589533819', 'https://dungeon.report/pgcr/15589543445', 'https://dungeon.report/pgcr/15589550786', 'https://dungeon.report/pgcr/15589551729', 'https://dungeon.report/pgcr/15589556716', 'https://dungeon.report/pgcr/15589575181']\n"
     ]
    }
   ],
   "source": [
    "# Collect timestamp links for each team\n",
    "clear_links = []\n",
    "\n",
    "for i in range(1, 51):  # Loop through the top 50 rows\n",
    "    try:\n",
    "        # Construct XPath for each row's timestamp (adjusting for the row number)\n",
    "        timestamp_xpath = f\"/html/body/div/div/main/div/div[3]/table/tbody/tr[{i}]/td[4]/a\"\n",
    "        \n",
    "        # Find the link using the constructed XPath\n",
    "        timestamp_link = driver.find_element(By.XPATH, timestamp_xpath).get_attribute('href')\n",
    "        \n",
    "        # Append the full link to the clear_links list (prepend \"https://dungeon.report\" to href if necessary)\n",
    "        clear_links.append(timestamp_link)\n",
    "        \n",
    "    except Exception as e:\n",
    "        print(f\"Error retrieving link for row {i}: {e}\")\n",
    "        continue\n",
    "\n",
    "print(clear_links)"
   ]
  },
  {
   "cell_type": "code",
   "execution_count": 6,
   "metadata": {},
   "outputs": [],
   "source": [
    "# Initialize a list to store player class data\n",
    "player_classes = []"
   ]
  },
  {
   "cell_type": "code",
   "execution_count": 17,
   "metadata": {},
   "outputs": [],
   "source": [
    "# Initialize a list to store player data with their class and clear status\n",
    "report_players = []\n",
    "\n",
    "# Loop through each clear report page\n",
    "for link in clear_links:\n",
    "    # Open the clear report page\n",
    "    driver.get(link)\n",
    "    \n",
    "    # Allow time for the page to load (adjust if needed)\n",
    "    WebDriverWait(driver, 10).until(EC.presence_of_all_elements_located((By.CLASS_NAME, 'card-content')))\n",
    "    \n",
    "    # Find all player names and their corresponding clear icons and classes\n",
    "    players_in_report = driver.find_elements(By.CLASS_NAME, 'pgcr-display-name')  # Class for player names\n",
    "    clear_icons = driver.find_elements(By.CLASS_NAME, 'material-icons')  # Class for success check mark\n",
    "    \n",
    "    # Extract player information (name, clear status, class) before checking against player_data\n",
    "    for idx, player in enumerate(players_in_report):\n",
    "        player_name = player.text.strip()  # Get player name\n",
    "        \n",
    "        # Check if the player has the \"check_circle\" success icon, indicating they cleared the dungeon\n",
    "        cleared = clear_icons[idx].text == \"check_circle\"\n",
    "        \n",
    "        # Extract the player class using the correct XPath for the class label\n",
    "        try:\n",
    "            player_class = driver.find_element(By.XPATH, f'/html/body/div/div/main/div/div[3]/div/table/tbody/tr[{idx + 1}]/td[1]/div/div/label').text\n",
    "        except Exception as e:\n",
    "            print(f\"Error finding class for player {player_name}: {e}\")\n",
    "            player_class = \"Unknown\"\n",
    "        \n",
    "        # Append the player name, clear status, and class to the report_players list\n",
    "        report_players.append({\n",
    "            'Player Name': player_name,\n",
    "            'Class': player_class,\n",
    "            'Cleared': cleared,\n",
    "            'Clear Link': link\n",
    "        })"
   ]
  }
 ],
 "metadata": {
  "kernelspec": {
   "display_name": "dev",
   "language": "python",
   "name": "python3"
  },
  "language_info": {
   "codemirror_mode": {
    "name": "ipython",
    "version": 3
   },
   "file_extension": ".py",
   "mimetype": "text/x-python",
   "name": "python",
   "nbconvert_exporter": "python",
   "pygments_lexer": "ipython3",
   "version": "3.10.14"
  }
 },
 "nbformat": 4,
 "nbformat_minor": 2
}
