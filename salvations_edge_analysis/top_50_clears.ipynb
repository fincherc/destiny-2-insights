{
 "cells": [
  {
   "cell_type": "code",
   "execution_count": 1,
   "metadata": {},
   "outputs": [],
   "source": [
    "#Inclusion\n",
    "from selenium import webdriver\n",
    "from selenium.webdriver.chrome.service import Service\n",
    "from selenium.webdriver.common.by import By\n",
    "from selenium.webdriver.support.ui import WebDriverWait\n",
    "from selenium.webdriver.support import expected_conditions as EC\n",
    "import time\n",
    "import pandas as pd\n",
    "from dotenv import load_dotenv"
   ]
  },
  {
   "cell_type": "code",
   "execution_count": 2,
   "metadata": {},
   "outputs": [],
   "source": [
    "# Path to your GeckoDriver (Firefox driver)\n",
    "gecko_driver_path = 'C:/Program Files/geckodriver-v0.35.0-win64/geckodriver.exe'\n",
    "\n",
    "# Setup Firefox WebDriver\n",
    "service = Service(gecko_driver_path)\n",
    "driver = webdriver.Firefox(service=service)\n",
    "\n",
    "# Open the leaderboard page\n",
    "driver.get('https://raid.report/leaderboard/worldsfirst/salvationsedge/normal')\n",
    "\n",
    "# Give time for the page to load, adjust as needed\n",
    "driver.implicitly_wait(10)"
   ]
  },
  {
   "cell_type": "code",
   "execution_count": 3,
   "metadata": {},
   "outputs": [],
   "source": [
    "# Scrape player names from the leaderboard\n",
    "players = driver.find_elements(By.CLASS_NAME, 'MuiTableRow-root')"
   ]
  },
  {
   "cell_type": "code",
   "execution_count": 4,
   "metadata": {},
   "outputs": [
    {
     "name": "stdout",
     "output_type": "stream",
     "text": [
      "['https://raid.report/pgcr/15008773959', 'https://raid.report/pgcr/15013763391', 'https://raid.report/pgcr/15020932267', 'https://raid.report/pgcr/15014319730', 'https://raid.report/pgcr/15014583648', 'https://raid.report/pgcr/15015332930', 'https://raid.report/pgcr/15015874694', 'https://raid.report/pgcr/15306651430', 'https://raid.report/pgcr/15016324295', 'https://raid.report/pgcr/15016461099', 'https://raid.report/pgcr/15016696664', 'https://raid.report/pgcr/15303122022', 'https://raid.report/pgcr/15017675557', 'https://raid.report/pgcr/15017797842', 'https://raid.report/pgcr/15017945192', 'https://raid.report/pgcr/15018357224', 'https://raid.report/pgcr/15018532675', 'https://raid.report/pgcr/15018602254', 'https://raid.report/pgcr/15021828052', 'https://raid.report/pgcr/15019130983', 'https://raid.report/pgcr/15019437682', 'https://raid.report/pgcr/15019475515', 'https://raid.report/pgcr/15019544735', 'https://raid.report/pgcr/15019591725', 'https://raid.report/pgcr/15019723134', 'https://raid.report/pgcr/15019777498', 'https://raid.report/pgcr/15019798855', 'https://raid.report/pgcr/15019888531', 'https://raid.report/pgcr/15020215254', 'https://raid.report/pgcr/15020360200', 'https://raid.report/pgcr/15020601588', 'https://raid.report/pgcr/15023711455', 'https://raid.report/pgcr/15020727398', 'https://raid.report/pgcr/15020684110', 'https://raid.report/pgcr/15020739847', 'https://raid.report/pgcr/15020931185', 'https://raid.report/pgcr/15020791317', 'https://raid.report/pgcr/15020943341', 'https://raid.report/pgcr/15021001337', 'https://raid.report/pgcr/15021023335', 'https://raid.report/pgcr/15021159800', 'https://raid.report/pgcr/15021244511', 'https://raid.report/pgcr/15021155669', 'https://raid.report/pgcr/15021204886', 'https://raid.report/pgcr/15021240315', 'https://raid.report/pgcr/15021425174', 'https://raid.report/pgcr/15021506288', 'https://raid.report/pgcr/15021551472', 'https://raid.report/pgcr/15021582693', 'https://raid.report/pgcr/15021649668']\n"
     ]
    }
   ],
   "source": [
    "# Collect timestamp links for each team\n",
    "clear_links = []\n",
    "\n",
    "for i in range(1, len(players)):  # Loop through the top 50 rows\n",
    "    try:\n",
    "        # Construct XPath for each row's timestamp (adjusting for the row number)\n",
    "        timestamp_xpath = f\"/html/body/div/div/main/div/div[3]/table/tbody/tr[{i}]/td[4]/a\"\n",
    "        \n",
    "        # Find the link using the constructed XPath\n",
    "        timestamp_link = driver.find_element(By.XPATH, timestamp_xpath).get_attribute('href')\n",
    "        \n",
    "        # Append the full link to the clear_links list (prepend \"https://dungeon.report\" to href if necessary)\n",
    "        clear_links.append(timestamp_link)\n",
    "        \n",
    "    except Exception as e:\n",
    "        print(f\"Error retrieving link for row {i}: {e}\")\n",
    "        continue\n",
    "\n",
    "print(clear_links)"
   ]
  },
  {
   "cell_type": "code",
   "execution_count": 5,
   "metadata": {},
   "outputs": [],
   "source": [
    "# Initialize a list to store player data with their class and clear status\n",
    "report_players = []\n",
    "\n",
    "# Setup WebDriverWait (increase the timeout as needed)\n",
    "wait = WebDriverWait(driver, 15)  # Wait for up to 15 seconds for elements to load"
   ]
  },
  {
   "cell_type": "code",
   "execution_count": 6,
   "metadata": {},
   "outputs": [],
   "source": [
    "# Loop through each clear report page\n",
    "for link in clear_links:\n",
    "    # Open the clear report page\n",
    "    driver.get(link)\n",
    "    time.sleep(2)\n",
    "\n",
    "    # Wait until the page content loads (adjust the wait condition as needed)\n",
    "    wait.until(EC.presence_of_element_located((By.CLASS_NAME, 'card-content')))\n",
    "\n",
    "    # Wait for player entries to load (based on the class 'pgcr-player-entry')\n",
    "    players_entries = wait.until(EC.presence_of_all_elements_located((By.CLASS_NAME, 'pgcr-player-entry')))\n",
    "\n",
    "    # Loop through each player entry and extract relevant information\n",
    "    for entry in players_entries:\n",
    "        try:\n",
    "            # Extract player name, class, and clear status with explicit waits\n",
    "            player_name = entry.find_element(By.CLASS_NAME, 'pgcr-display-name').text.strip()\n",
    "            \n",
    "            # Check if the player has the success or failure icon\n",
    "            icon_element = entry.find_element(By.CLASS_NAME, 'material-icons')\n",
    "            cleared = icon_element.text == \"check_circle\"  # True if cleared, False otherwise\n",
    "            \n",
    "            # Extract the player class using the correct XPath for the class label\n",
    "            player_class = entry.find_element(By.XPATH, './/label').text.strip()  # Use relative XPath to find label within entry\n",
    "\n",
    "            # Append the player information to the list of report players\n",
    "            report_players.append({\n",
    "                'Player Name': player_name,\n",
    "                'Class': player_class,\n",
    "                'Cleared': cleared,\n",
    "                'Clear Link': link\n",
    "            })\n",
    "        \n",
    "        except Exception as e:\n",
    "            print(f\"Error processing player entry: {e}\")\n",
    "            continue  # Skip the entry if there is an issue"
   ]
  },
  {
   "cell_type": "code",
   "execution_count": 7,
   "metadata": {},
   "outputs": [
    {
     "name": "stdout",
     "output_type": "stream",
     "text": [
      "       Player Name    Class  Cleared                            Clear Link\n",
      "0           Tyraxe   Hunter     True  https://raid.report/pgcr/15008773959\n",
      "1    DrakathShadow  Warlock     True  https://raid.report/pgcr/15008773959\n",
      "2             Jake  Warlock     True  https://raid.report/pgcr/15008773959\n",
      "3              Ham   Hunter     True  https://raid.report/pgcr/15008773959\n",
      "4            bravo   Hunter     True  https://raid.report/pgcr/15008773959\n",
      "..             ...      ...      ...                                   ...\n",
      "384   BigginLasley  Warlock     True  https://raid.report/pgcr/15008773959\n",
      "385           Wisp    Titan     True  https://raid.report/pgcr/15008773959\n",
      "386     SolusAstra   Hunter     True  https://raid.report/pgcr/15008773959\n",
      "387       Parallax  Warlock     True  https://raid.report/pgcr/15008773959\n",
      "388     SolusAstra  Warlock    False  https://raid.report/pgcr/15008773959\n",
      "\n",
      "[389 rows x 4 columns]\n"
     ]
    }
   ],
   "source": [
    "driver.close()\n",
    "df = pd.DataFrame(report_players)\n",
    "print(df)"
   ]
  },
  {
   "cell_type": "code",
   "execution_count": 8,
   "metadata": {},
   "outputs": [],
   "source": [
    "df.to_csv('se_player_report.csv', index=False)"
   ]
  }
 ],
 "metadata": {
  "kernelspec": {
   "display_name": "dev",
   "language": "python",
   "name": "python3"
  },
  "language_info": {
   "codemirror_mode": {
    "name": "ipython",
    "version": 3
   },
   "file_extension": ".py",
   "mimetype": "text/x-python",
   "name": "python",
   "nbconvert_exporter": "python",
   "pygments_lexer": "ipython3",
   "version": "3.10.14"
  }
 },
 "nbformat": 4,
 "nbformat_minor": 2
}
