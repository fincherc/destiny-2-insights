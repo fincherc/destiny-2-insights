{
 "cells": [
  {
   "cell_type": "code",
   "execution_count": 1,
   "metadata": {},
   "outputs": [],
   "source": [
    "#Inclusion\n",
    "from selenium import webdriver\n",
    "from selenium.webdriver.chrome.service import Service\n",
    "from selenium.webdriver.common.by import By\n",
    "from selenium.webdriver.support.ui import WebDriverWait\n",
    "from selenium.webdriver.support import expected_conditions as EC\n",
    "import time\n",
    "import pandas as pd\n",
    "from dotenv import load_dotenv"
   ]
  },
  {
   "cell_type": "code",
   "execution_count": 2,
   "metadata": {},
   "outputs": [],
   "source": [
    "# Path to your GeckoDriver (Firefox driver)\n",
    "gecko_driver_path = 'C:/Program Files/geckodriver-v0.35.0-win64/geckodriver.exe'\n",
    "\n",
    "# Setup Firefox WebDriver\n",
    "service = Service(gecko_driver_path)\n",
    "driver = webdriver.Firefox(service=service)\n",
    "\n",
    "# Open the leaderboard page\n",
    "driver.get('https://dungeon.report/leaderboard/worldsfirst/vespershost/challenge')\n",
    "\n",
    "# Give time for the page to load, adjust as needed\n",
    "driver.implicitly_wait(10)"
   ]
  },
  {
   "cell_type": "code",
   "execution_count": 3,
   "metadata": {},
   "outputs": [],
   "source": [
    "# Scrape player names from the leaderboard\n",
    "players = driver.find_elements(By.CLASS_NAME, 'MuiTableRow-root')"
   ]
  },
  {
   "cell_type": "code",
   "execution_count": 4,
   "metadata": {},
   "outputs": [
    {
     "name": "stdout",
     "output_type": "stream",
     "text": [
      "['https://dungeon.report/pgcr/15588722299', 'https://dungeon.report/pgcr/15588914874', 'https://dungeon.report/pgcr/15588980267', 'https://dungeon.report/pgcr/15588989114', 'https://dungeon.report/pgcr/15589002711', 'https://dungeon.report/pgcr/15589029823', 'https://dungeon.report/pgcr/15589023283', 'https://dungeon.report/pgcr/15589059489', 'https://dungeon.report/pgcr/15589062439', 'https://dungeon.report/pgcr/15589100314', 'https://dungeon.report/pgcr/15589110842', 'https://dungeon.report/pgcr/15589126733', 'https://dungeon.report/pgcr/15589129971', 'https://dungeon.report/pgcr/15589175756', 'https://dungeon.report/pgcr/15589251667', 'https://dungeon.report/pgcr/15589237524', 'https://dungeon.report/pgcr/15589242109', 'https://dungeon.report/pgcr/15589242198', 'https://dungeon.report/pgcr/15589273300', 'https://dungeon.report/pgcr/15589321303', 'https://dungeon.report/pgcr/15589302032', 'https://dungeon.report/pgcr/15589322280', 'https://dungeon.report/pgcr/15589326108', 'https://dungeon.report/pgcr/15589330033', 'https://dungeon.report/pgcr/15589327884', 'https://dungeon.report/pgcr/15589336282', 'https://dungeon.report/pgcr/15589349805', 'https://dungeon.report/pgcr/15589353580', 'https://dungeon.report/pgcr/15589355549', 'https://dungeon.report/pgcr/15589391166', 'https://dungeon.report/pgcr/15589400139', 'https://dungeon.report/pgcr/15589450284', 'https://dungeon.report/pgcr/15589437859', 'https://dungeon.report/pgcr/15589443119', 'https://dungeon.report/pgcr/15589434272', 'https://dungeon.report/pgcr/15589440080', 'https://dungeon.report/pgcr/15589482980', 'https://dungeon.report/pgcr/15589503435', 'https://dungeon.report/pgcr/15589513842', 'https://dungeon.report/pgcr/15589512039', 'https://dungeon.report/pgcr/15589508694', 'https://dungeon.report/pgcr/15589510105', 'https://dungeon.report/pgcr/15589516790', 'https://dungeon.report/pgcr/15590401884', 'https://dungeon.report/pgcr/15589533819', 'https://dungeon.report/pgcr/15589543445', 'https://dungeon.report/pgcr/15589550786', 'https://dungeon.report/pgcr/15589551729', 'https://dungeon.report/pgcr/15589556716', 'https://dungeon.report/pgcr/15589575181']\n"
     ]
    }
   ],
   "source": [
    "# Collect timestamp links for each team\n",
    "clear_links = []\n",
    "\n",
    "for i in range(1, len(players)):  # Loop through the top 50 rows\n",
    "    try:\n",
    "        # Construct XPath for each row's timestamp (adjusting for the row number)\n",
    "        timestamp_xpath = f\"/html/body/div/div/main/div/div[3]/table/tbody/tr[{i}]/td[4]/a\"\n",
    "        \n",
    "        # Find the link using the constructed XPath\n",
    "        timestamp_link = driver.find_element(By.XPATH, timestamp_xpath).get_attribute('href')\n",
    "        \n",
    "        # Append the full link to the clear_links list (prepend \"https://dungeon.report\" to href if necessary)\n",
    "        clear_links.append(timestamp_link)\n",
    "        \n",
    "    except Exception as e:\n",
    "        print(f\"Error retrieving link for row {i}: {e}\")\n",
    "        continue\n",
    "\n",
    "print(clear_links)"
   ]
  },
  {
   "cell_type": "code",
   "execution_count": 5,
   "metadata": {},
   "outputs": [],
   "source": [
    "# Initialize a list to store player data with their class and clear status\n",
    "report_players = []\n",
    "\n",
    "# Setup WebDriverWait (increase the timeout as needed)\n",
    "wait = WebDriverWait(driver, 15)  # Wait for up to 15 seconds for elements to load"
   ]
  },
  {
   "cell_type": "code",
   "execution_count": 6,
   "metadata": {},
   "outputs": [],
   "source": [
    "# Loop through each clear report page\n",
    "for link in clear_links:\n",
    "    # Open the clear report page\n",
    "    driver.get(link)\n",
    "    time.sleep(2)\n",
    "\n",
    "    # Wait until the page content loads (adjust the wait condition as needed)\n",
    "    wait.until(EC.presence_of_element_located((By.CLASS_NAME, 'card-content')))\n",
    "\n",
    "    # Wait for player entries to load (based on the class 'pgcr-player-entry')\n",
    "    players_entries = wait.until(EC.presence_of_all_elements_located((By.CLASS_NAME, 'pgcr-player-entry')))\n",
    "\n",
    "    # Loop through each player entry and extract relevant information\n",
    "    for entry in players_entries:\n",
    "        try:\n",
    "            # Extract player name, class, and clear status with explicit waits\n",
    "            player_name = entry.find_element(By.CLASS_NAME, 'pgcr-display-name').text.strip()\n",
    "            \n",
    "            # Check if the player has the success or failure icon\n",
    "            icon_element = entry.find_element(By.CLASS_NAME, 'material-icons')\n",
    "            cleared = icon_element.text == \"check_circle\"  # True if cleared, False otherwise\n",
    "            \n",
    "            # Extract the player class using the correct XPath for the class label\n",
    "            player_class = entry.find_element(By.XPATH, './/label').text.strip()  # Use relative XPath to find label within entry\n",
    "\n",
    "            # Append the player information to the list of report players\n",
    "            report_players.append({\n",
    "                'Player Name': player_name,\n",
    "                'Class': player_class,\n",
    "                'Cleared': cleared,\n",
    "                'Clear Link': link\n",
    "            })\n",
    "        \n",
    "        except Exception as e:\n",
    "            print(f\"Error processing player entry: {e}\")\n",
    "            continue  # Skip the entry if there is an issue"
   ]
  },
  {
   "cell_type": "code",
   "execution_count": 8,
   "metadata": {},
   "outputs": [
    {
     "name": "stdout",
     "output_type": "stream",
     "text": [
      "     Player Name    Class  Cleared                               Clear Link\n",
      "0    SpecialHero    Titan     True  https://dungeon.report/pgcr/15588722299\n",
      "1          Tides  Warlock     True  https://dungeon.report/pgcr/15588722299\n",
      "2           Pine   Hunter     True  https://dungeon.report/pgcr/15588722299\n",
      "3            Jay    Titan    False  https://dungeon.report/pgcr/15588722299\n",
      "4       SuouYuki    Titan     True  https://dungeon.report/pgcr/15588722299\n",
      "..           ...      ...      ...                                      ...\n",
      "210    alsabyani  Warlock     True  https://dungeon.report/pgcr/15588722299\n",
      "211         Erix    Titan     True  https://dungeon.report/pgcr/15588722299\n",
      "212         Nick  Warlock     True  https://dungeon.report/pgcr/15588722299\n",
      "213         Nova   Hunter     True  https://dungeon.report/pgcr/15588722299\n",
      "214         Nova    Titan    False  https://dungeon.report/pgcr/15588722299\n",
      "\n",
      "[215 rows x 4 columns]\n"
     ]
    }
   ],
   "source": [
    "driver.close()\n",
    "df = pd.DataFrame(report_players)\n",
    "print(df)"
   ]
  },
  {
   "cell_type": "code",
   "execution_count": 10,
   "metadata": {},
   "outputs": [],
   "source": [
    "df.to_csv('vh_player_report.csv', index=False)"
   ]
  }
 ],
 "metadata": {
  "kernelspec": {
   "display_name": "dev",
   "language": "python",
   "name": "python3"
  },
  "language_info": {
   "codemirror_mode": {
    "name": "ipython",
    "version": 3
   },
   "file_extension": ".py",
   "mimetype": "text/x-python",
   "name": "python",
   "nbconvert_exporter": "python",
   "pygments_lexer": "ipython3",
   "version": "3.10.14"
  }
 },
 "nbformat": 4,
 "nbformat_minor": 2
}
