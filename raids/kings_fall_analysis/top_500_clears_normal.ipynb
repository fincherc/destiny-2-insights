{
 "cells": [
  {
   "cell_type": "code",
   "execution_count": 1,
   "metadata": {},
   "outputs": [],
   "source": [
    "#Inclusion\n",
    "from selenium import webdriver\n",
    "from selenium.webdriver.chrome.service import Service\n",
    "from selenium.webdriver.common.by import By\n",
    "from selenium.webdriver.support.ui import WebDriverWait\n",
    "from selenium.webdriver.support import expected_conditions as EC\n",
    "import time\n",
    "import pandas as pd\n",
    "from dotenv import load_dotenv"
   ]
  },
  {
   "cell_type": "code",
   "execution_count": 2,
   "metadata": {},
   "outputs": [],
   "source": [
    "# Path to your GeckoDriver (Firefox driver)\n",
    "gecko_driver_path = 'C:/Program Files/geckodriver-v0.35.0-win64/geckodriver.exe'\n",
    "\n",
    "# Setup Firefox WebDriver\n",
    "service = Service(gecko_driver_path)\n",
    "driver = webdriver.Firefox(service=service)\n",
    "\n",
    "# Open the leaderboard page\n",
    "driver.get('https://raid.report/leaderboard/worldsfirst/kingsfall/normal')\n",
    "\n",
    "# Give time for the page to load, adjust as needed\n",
    "driver.implicitly_wait(10)"
   ]
  },
  {
   "cell_type": "code",
   "execution_count": 3,
   "metadata": {},
   "outputs": [],
   "source": [
    "# Collect timestamp links for each team\n",
    "clear_links = []"
   ]
  },
  {
   "cell_type": "code",
   "execution_count": 4,
   "metadata": {},
   "outputs": [
    {
     "name": "stdout",
     "output_type": "stream",
     "text": [
      "Limit reached, proceeding to exit loop.\n",
      "Total links retrieved: 500\n"
     ]
    }
   ],
   "source": [
    "while True:\n",
    "    # Scrape player names from the leaderboard\n",
    "    players = driver.find_elements(By.CLASS_NAME, 'MuiTableRow-root')\n",
    "    \n",
    "    for i in range(1, len(players)):  # Loop through all rows\n",
    "        try:\n",
    "            # Construct XPath for each row's timestamp (adjusting for the row number)\n",
    "            timestamp_xpath = f\"/html/body/div/div/main/div/div[3]/table/tbody/tr[{i}]/td[4]/a\"\n",
    "            \n",
    "            # Find the link using the constructed XPath\n",
    "            timestamp_link = driver.find_element(By.XPATH, timestamp_xpath).get_attribute('href')\n",
    "            \n",
    "            # Append the full link to the clear_links list (prepend \"https://dungeon.report\" to href if necessary)\n",
    "            clear_links.append(timestamp_link)\n",
    "            \n",
    "        except Exception as e:\n",
    "            print(f\"Error retrieving link for row {i}: {e}\")\n",
    "            continue\n",
    "    \n",
    "    # Check for a \"Next\" button to move to the next page\n",
    "    try:\n",
    "        next_button = driver.find_element(By.XPATH, '/html/body/div/div/main/div/div[3]/div/div[3]/div/div[2]/button[2]')\n",
    "        \n",
    "        # If the button is disabled, break the loop\n",
    "        if len(clear_links) == 500:\n",
    "            print(\"Limit reached, proceeding to exit loop.\")\n",
    "            break\n",
    "\n",
    "        # If the button is disabled, break the loop\n",
    "        if not next_button.is_enabled():\n",
    "            print(\"No more pages. Pagination complete.\")\n",
    "            break\n",
    "        \n",
    "        # Click the \"Next\" button to load more entries\n",
    "        next_button.click()\n",
    "        time.sleep(3)  # Allow time for new page to load\n",
    "\n",
    "    except Exception as e:\n",
    "        print(\"No more pages found or button not clickable. Stopping pagination.\")\n",
    "        break  # Exit loop if no \"Next\" button is found\n",
    "\n",
    "print(f\"Total links retrieved: {len(clear_links)}\")"
   ]
  },
  {
   "cell_type": "code",
   "execution_count": 5,
   "metadata": {},
   "outputs": [],
   "source": [
    "# Initialize a list to store player data with their class and clear status\n",
    "report_players = []\n",
    "\n",
    "# Setup WebDriverWait (increase the timeout as needed)\n",
    "wait = WebDriverWait(driver, 15)  # Wait for up to 15 seconds for elements to load"
   ]
  },
  {
   "cell_type": "code",
   "execution_count": 6,
   "metadata": {},
   "outputs": [],
   "source": [
    "# Loop through each clear report page\n",
    "for link in clear_links:\n",
    "    # Open the clear report page\n",
    "    driver.get(link)\n",
    "    time.sleep(2)\n",
    "\n",
    "    # Wait until the page content loads (adjust the wait condition as needed)\n",
    "    wait.until(EC.presence_of_element_located((By.CLASS_NAME, 'card-content')))\n",
    "\n",
    "    # Wait for player entries to load (based on the class 'pgcr-player-entry')\n",
    "    players_entries = wait.until(EC.presence_of_all_elements_located((By.CLASS_NAME, 'pgcr-player-entry')))\n",
    "\n",
    "    # Loop through each player entry and extract relevant information\n",
    "    for entry in players_entries:\n",
    "        try:\n",
    "            # Extract player name, class, and clear status with explicit waits\n",
    "            player_name = entry.find_element(By.CLASS_NAME, 'pgcr-display-name').text.strip()\n",
    "            \n",
    "            # Check if the player has the success or failure icon\n",
    "            icon_element = entry.find_element(By.CLASS_NAME, 'material-icons')\n",
    "            cleared = icon_element.text == \"check_circle\"  # True if cleared, False otherwise\n",
    "            \n",
    "            # Extract the player class using the correct XPath for the class label\n",
    "            player_class = entry.find_element(By.XPATH, './/label').text.strip()  # Use relative XPath to find label within entry\n",
    "\n",
    "            # Append the player information to the list of report players\n",
    "            report_players.append({\n",
    "                'Player Name': player_name,\n",
    "                'Class': player_class,\n",
    "                'Cleared': cleared,\n",
    "                'Clear Link': link\n",
    "            })\n",
    "        \n",
    "        except Exception as e:\n",
    "            print(f\"Error processing player entry: {e}\")\n",
    "            continue  # Skip the entry if there is an issue"
   ]
  },
  {
   "cell_type": "code",
   "execution_count": 7,
   "metadata": {},
   "outputs": [
    {
     "name": "stdout",
     "output_type": "stream",
     "text": [
      "     Player Name    Class  Cleared                            Clear Link\n",
      "0             OG    Titan     True  https://raid.report/pgcr/11394637114\n",
      "1        Darling  Warlock     True  https://raid.report/pgcr/11394637114\n",
      "2            Son  Warlock     True  https://raid.report/pgcr/11394637114\n",
      "3         GuhMan   Hunter     True  https://raid.report/pgcr/11394637114\n",
      "4         seraph  Warlock     True  https://raid.report/pgcr/11394637114\n",
      "...          ...      ...      ...                                   ...\n",
      "3135     Xaffekt  Warlock     True  https://raid.report/pgcr/11397098276\n",
      "3136    Orion.X3  Warlock     True  https://raid.report/pgcr/11397098276\n",
      "3137   jack1best   Hunter     True  https://raid.report/pgcr/11397098276\n",
      "3138        Dark   Hunter     True  https://raid.report/pgcr/11397098276\n",
      "3139       Rawad  Warlock     True  https://raid.report/pgcr/11397098276\n",
      "\n",
      "[3140 rows x 4 columns]\n"
     ]
    }
   ],
   "source": [
    "driver.close()\n",
    "df = pd.DataFrame(report_players)\n",
    "print(df)"
   ]
  },
  {
   "cell_type": "code",
   "execution_count": 8,
   "metadata": {},
   "outputs": [],
   "source": [
    "df.to_csv('kf_player_report.csv', index=False)"
   ]
  }
 ],
 "metadata": {
  "kernelspec": {
   "display_name": "dev",
   "language": "python",
   "name": "python3"
  },
  "language_info": {
   "codemirror_mode": {
    "name": "ipython",
    "version": 3
   },
   "file_extension": ".py",
   "mimetype": "text/x-python",
   "name": "python",
   "nbconvert_exporter": "python",
   "pygments_lexer": "ipython3",
   "version": "3.10.14"
  }
 },
 "nbformat": 4,
 "nbformat_minor": 2
}
